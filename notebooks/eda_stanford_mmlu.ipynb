{
 "cells": [
  {
   "cell_type": "code",
   "execution_count": 72,
   "metadata": {},
   "outputs": [],
   "source": [
    "import re\n",
    "\n",
    "import pandas as pd\n",
    "import seaborn as sns\n",
    "\n",
    "from router_poc import settings as S"
   ]
  },
  {
   "cell_type": "code",
   "execution_count": 73,
   "metadata": {},
   "outputs": [],
   "source": [
    "suite_path = S.DATA_DIR / \"raw\" / \"crfm-helm-public\" / \"mmlu\" / \"benchmark_output\" / \"runs\""
   ]
  },
  {
   "cell_type": "code",
   "execution_count": 74,
   "metadata": {},
   "outputs": [
    {
     "data": {
      "text/plain": [
       "4632"
      ]
     },
     "execution_count": 74,
     "metadata": {},
     "output_type": "execute_result"
    }
   ],
   "source": [
    "evals = list(path for path in suite_path.glob(\"*/*\") if path.is_dir())\n",
    "len(evals)"
   ]
  },
  {
   "cell_type": "code",
   "execution_count": 75,
   "metadata": {},
   "outputs": [
    {
     "data": {
      "text/plain": [
       "nvidia_nemotron-4-340b-instruct             114\n",
       "anthropic_claude-3-sonnet-20240229           62\n",
       "anthropic_claude-3-opus-20240229             62\n",
       "meta_llama-3.2-90b-vision-instruct-turbo     57\n",
       "qwen_qwen2.5-7b-instruct-turbo               57\n",
       "                                           ... \n",
       "google_gemini-1.5-flash-002                  57\n",
       "upstage_solar-pro-241126                     57\n",
       "anthropic_claude-3-5-sonnet-20241022         57\n",
       "meta_llama-3.3-70b-instruct-turbo            57\n",
       "google_gemini-pro                             5\n",
       "Name: count, Length: 81, dtype: int64"
      ]
     },
     "execution_count": 75,
     "metadata": {},
     "output_type": "execute_result"
    }
   ],
   "source": [
    "models = []\n",
    "for path in evals:\n",
    "    model_name = re.search(r\"model=(.*?),\", path.name).group(1)\n",
    "    models.append(model_name)\n",
    "\n",
    "models = pd.Series(models)\n",
    "models.value_counts()\n"
   ]
  },
  {
   "cell_type": "code",
   "execution_count": 76,
   "metadata": {},
   "outputs": [
    {
     "data": {
      "text/plain": [
       "anthropic_claude-3-opus-20240229        62\n",
       "anthropic_claude-3-sonnet-20240229      62\n",
       "google_gemini-1.5-flash-001             57\n",
       "mistralai_mistral-7b-instruct-v0.3      57\n",
       "google_gemini-1.5-pro-001               57\n",
       "google_gemma-2-27b                      57\n",
       "openai_gpt-4-turbo-2024-04-09           57\n",
       "google_gemini-2.0-flash-exp             57\n",
       "google_gemma-2-9b                       57\n",
       "openai_gpt-4-1106-preview               57\n",
       "anthropic_claude-2.1                    57\n",
       "mistralai_mixtral-8x7b-32kseqlen        57\n",
       "anthropic_claude-3-5-haiku-20241022     57\n",
       "openai_gpt-3.5-turbo-0613               57\n",
       "openai_gpt-4-0613                       57\n",
       "anthropic_claude-instant-1.2            57\n",
       "google_gemini-1.0-pro-001               57\n",
       "google_text-unicorn@001                 57\n",
       "mistralai_mistral-7b-v0.1               57\n",
       "google_text-bison@001                   57\n",
       "anthropic_claude-3-haiku-20240307       57\n",
       "google_gemma-7b                         57\n",
       "mistralai_mixtral-8x22b                 57\n",
       "google_gemini-1.5-flash-preview-0514    57\n",
       "openai_gpt-4o-2024-05-13                57\n",
       "mistralai_mistral-small-2402            57\n",
       "mistralai_mistral-large-2402            57\n",
       "google_gemini-1.5-pro-preview-0409      57\n",
       "mistralai_open-mistral-nemo-2407        57\n",
       "mistralai_mistral-large-2407            57\n",
       "openai_gpt-4o-mini-2024-07-18           57\n",
       "anthropic_claude-3-5-sonnet-20240620    57\n",
       "google_gemini-1.5-pro-002               57\n",
       "openai_gpt-3.5-turbo-0125               57\n",
       "google_gemini-1.5-flash-002             57\n",
       "openai_gpt-4o-2024-08-06                57\n",
       "anthropic_claude-3-5-sonnet-20241022    57\n",
       "Name: count, dtype: int64"
      ]
     },
     "execution_count": 76,
     "metadata": {},
     "output_type": "execute_result"
    }
   ],
   "source": [
    "providers = [\"google\", \"openai\", \"anthropic\", \"mistral\"]\n",
    "\n",
    "models = models[models.str.startswith(tuple(providers))]\n",
    "models = models[models.isin(models.value_counts()[models.value_counts() > 50].index)]\n",
    "models.value_counts()"
   ]
  },
  {
   "cell_type": "code",
   "execution_count": 77,
   "metadata": {},
   "outputs": [],
   "source": [
    "selected_models = [\n",
    "    \"mistralai_mistral-small-2402\",\n",
    "    \"mistralai_mistral-large-2407\",\n",
    "    \"openai_gpt-4o-2024-08-06\",\n",
    "    \"anthropic_claude-3-5-sonnet-20241022\",\n",
    "    \"anthropic_claude-3-5-haiku-20241022\",\n",
    "    \"openai_gpt-4-turbo-2024-04-09\",\n",
    "    \"google_gemini-2.0-flash-exp\"\n",
    "]"
   ]
  },
  {
   "cell_type": "code",
   "execution_count": 78,
   "metadata": {},
   "outputs": [
    {
     "data": {
      "text/plain": [
       "'mmlu:subject=public_relations,method=multiple_choice_joint,model=meta_llama-3.2-90b-vision-instruct-turbo,eval_split=test,groups=mmlu_public_relations'"
      ]
     },
     "execution_count": 78,
     "metadata": {},
     "output_type": "execute_result"
    }
   ],
   "source": [
    "evals[0].name"
   ]
  },
  {
   "cell_type": "code",
   "execution_count": 79,
   "metadata": {},
   "outputs": [
    {
     "data": {
      "text/plain": [
       "399"
      ]
     },
     "metadata": {},
     "output_type": "display_data"
    },
    {
     "data": {
      "text/plain": [
       "'mmlu:subject=college_medicine,method=multiple_choice_joint,model=openai_gpt-4-turbo-2024-04-09,eval_split=test,groups=mmlu_college_medicine'"
      ]
     },
     "execution_count": 79,
     "metadata": {},
     "output_type": "execute_result"
    }
   ],
   "source": [
    "evals_subset = []\n",
    "for eval in evals:\n",
    "    for model in selected_models:\n",
    "        if model in eval.name:\n",
    "            evals_subset.append(eval)\n",
    "\n",
    "display(len(evals_subset))\n",
    "\n",
    "evals_subset[0].name"
   ]
  },
  {
   "cell_type": "code",
   "execution_count": 80,
   "metadata": {},
   "outputs": [
    {
     "data": {
      "text/html": [
       "<div>\n",
       "<style scoped>\n",
       "    .dataframe tbody tr th:only-of-type {\n",
       "        vertical-align: middle;\n",
       "    }\n",
       "\n",
       "    .dataframe tbody tr th {\n",
       "        vertical-align: top;\n",
       "    }\n",
       "\n",
       "    .dataframe thead th {\n",
       "        text-align: right;\n",
       "    }\n",
       "</style>\n",
       "<table border=\"1\" class=\"dataframe\">\n",
       "  <thead>\n",
       "    <tr style=\"text-align: right;\">\n",
       "      <th></th>\n",
       "      <th>prompt</th>\n",
       "      <th>model</th>\n",
       "      <th>exact_match</th>\n",
       "      <th>provider</th>\n",
       "    </tr>\n",
       "  </thead>\n",
       "  <tbody>\n",
       "    <tr>\n",
       "      <th>0</th>\n",
       "      <td>Answer with only a single letter.\\n\\nThe follo...</td>\n",
       "      <td>openai/gpt-4-turbo-2024-04-09</td>\n",
       "      <td>1.0</td>\n",
       "      <td>openai</td>\n",
       "    </tr>\n",
       "    <tr>\n",
       "      <th>1</th>\n",
       "      <td>Answer with only a single letter.\\n\\nThe follo...</td>\n",
       "      <td>openai/gpt-4-turbo-2024-04-09</td>\n",
       "      <td>1.0</td>\n",
       "      <td>openai</td>\n",
       "    </tr>\n",
       "    <tr>\n",
       "      <th>2</th>\n",
       "      <td>Answer with only a single letter.\\n\\nThe follo...</td>\n",
       "      <td>openai/gpt-4-turbo-2024-04-09</td>\n",
       "      <td>1.0</td>\n",
       "      <td>openai</td>\n",
       "    </tr>\n",
       "    <tr>\n",
       "      <th>3</th>\n",
       "      <td>Answer with only a single letter.\\n\\nThe follo...</td>\n",
       "      <td>openai/gpt-4-turbo-2024-04-09</td>\n",
       "      <td>1.0</td>\n",
       "      <td>openai</td>\n",
       "    </tr>\n",
       "    <tr>\n",
       "      <th>4</th>\n",
       "      <td>Answer with only a single letter.\\n\\nThe follo...</td>\n",
       "      <td>openai/gpt-4-turbo-2024-04-09</td>\n",
       "      <td>0.0</td>\n",
       "      <td>openai</td>\n",
       "    </tr>\n",
       "    <tr>\n",
       "      <th>...</th>\n",
       "      <td>...</td>\n",
       "      <td>...</td>\n",
       "      <td>...</td>\n",
       "      <td>...</td>\n",
       "    </tr>\n",
       "    <tr>\n",
       "      <th>98289</th>\n",
       "      <td>Answer with only a single letter.\\n\\nThe follo...</td>\n",
       "      <td>anthropic/claude-3-5-sonnet-20241022</td>\n",
       "      <td>1.0</td>\n",
       "      <td>anthropic</td>\n",
       "    </tr>\n",
       "    <tr>\n",
       "      <th>98290</th>\n",
       "      <td>Answer with only a single letter.\\n\\nThe follo...</td>\n",
       "      <td>anthropic/claude-3-5-sonnet-20241022</td>\n",
       "      <td>1.0</td>\n",
       "      <td>anthropic</td>\n",
       "    </tr>\n",
       "    <tr>\n",
       "      <th>98291</th>\n",
       "      <td>Answer with only a single letter.\\n\\nThe follo...</td>\n",
       "      <td>anthropic/claude-3-5-sonnet-20241022</td>\n",
       "      <td>1.0</td>\n",
       "      <td>anthropic</td>\n",
       "    </tr>\n",
       "    <tr>\n",
       "      <th>98292</th>\n",
       "      <td>Answer with only a single letter.\\n\\nThe follo...</td>\n",
       "      <td>anthropic/claude-3-5-sonnet-20241022</td>\n",
       "      <td>1.0</td>\n",
       "      <td>anthropic</td>\n",
       "    </tr>\n",
       "    <tr>\n",
       "      <th>98293</th>\n",
       "      <td>Answer with only a single letter.\\n\\nThe follo...</td>\n",
       "      <td>anthropic/claude-3-5-sonnet-20241022</td>\n",
       "      <td>1.0</td>\n",
       "      <td>anthropic</td>\n",
       "    </tr>\n",
       "  </tbody>\n",
       "</table>\n",
       "<p>98294 rows × 4 columns</p>\n",
       "</div>"
      ],
      "text/plain": [
       "                                                  prompt  \\\n",
       "0      Answer with only a single letter.\\n\\nThe follo...   \n",
       "1      Answer with only a single letter.\\n\\nThe follo...   \n",
       "2      Answer with only a single letter.\\n\\nThe follo...   \n",
       "3      Answer with only a single letter.\\n\\nThe follo...   \n",
       "4      Answer with only a single letter.\\n\\nThe follo...   \n",
       "...                                                  ...   \n",
       "98289  Answer with only a single letter.\\n\\nThe follo...   \n",
       "98290  Answer with only a single letter.\\n\\nThe follo...   \n",
       "98291  Answer with only a single letter.\\n\\nThe follo...   \n",
       "98292  Answer with only a single letter.\\n\\nThe follo...   \n",
       "98293  Answer with only a single letter.\\n\\nThe follo...   \n",
       "\n",
       "                                      model  exact_match   provider  \n",
       "0             openai/gpt-4-turbo-2024-04-09          1.0     openai  \n",
       "1             openai/gpt-4-turbo-2024-04-09          1.0     openai  \n",
       "2             openai/gpt-4-turbo-2024-04-09          1.0     openai  \n",
       "3             openai/gpt-4-turbo-2024-04-09          1.0     openai  \n",
       "4             openai/gpt-4-turbo-2024-04-09          0.0     openai  \n",
       "...                                     ...          ...        ...  \n",
       "98289  anthropic/claude-3-5-sonnet-20241022          1.0  anthropic  \n",
       "98290  anthropic/claude-3-5-sonnet-20241022          1.0  anthropic  \n",
       "98291  anthropic/claude-3-5-sonnet-20241022          1.0  anthropic  \n",
       "98292  anthropic/claude-3-5-sonnet-20241022          1.0  anthropic  \n",
       "98293  anthropic/claude-3-5-sonnet-20241022          1.0  anthropic  \n",
       "\n",
       "[98294 rows x 4 columns]"
      ]
     },
     "execution_count": 80,
     "metadata": {},
     "output_type": "execute_result"
    }
   ],
   "source": [
    "dfs = []\n",
    "for eval in evals_subset:\n",
    "    predictions = pd.read_json(eval / \"display_predictions.json\")\n",
    "    predictions = pd.concat([predictions, pd.json_normalize(predictions[\"stats\"])], axis=1)\n",
    "    predictions = predictions[[\"exact_match\"]]\n",
    "    prompts = pd.read_json(eval / \"display_requests.json\")\n",
    "    prompts = pd.concat([prompts, pd.json_normalize(prompts[\"request\"])], axis=1)\n",
    "    prompts = prompts[[\"prompt\", \"model\"]]\n",
    "    assert prompts.model.nunique() == 1\n",
    "    results = pd.concat([prompts, predictions], axis=1)\n",
    "    results[\"provider\"] = prompts.model.str.split(\"/\").str[0]\n",
    "    dfs.append(results)\n",
    "\n",
    "df = pd.concat(dfs, ignore_index=True)\n",
    "df"
   ]
  },
  {
   "cell_type": "code",
   "execution_count": 81,
   "metadata": {},
   "outputs": [
    {
     "data": {
      "text/plain": [
       "np.float64(0.797617352025556)"
      ]
     },
     "execution_count": 81,
     "metadata": {},
     "output_type": "execute_result"
    }
   ],
   "source": [
    "df.exact_match.mean()"
   ]
  },
  {
   "cell_type": "code",
   "execution_count": 82,
   "metadata": {},
   "outputs": [
    {
     "data": {
      "text/plain": [
       "28030"
      ]
     },
     "execution_count": 82,
     "metadata": {},
     "output_type": "execute_result"
    }
   ],
   "source": [
    "df.prompt.nunique()"
   ]
  },
  {
   "cell_type": "code",
   "execution_count": 83,
   "metadata": {},
   "outputs": [
    {
     "data": {
      "text/plain": [
       "<Axes: xlabel='count', ylabel='Count'>"
      ]
     },
     "execution_count": 83,
     "metadata": {},
     "output_type": "execute_result"
    },
    {
     "data": {
      "image/png": "[encoded data removed]",
      "text/plain": [
       "<Figure size 640x480 with 1 Axes>"
      ]
     },
     "metadata": {},
     "output_type": "display_data"
    }
   ],
   "source": [
    "sns.histplot(df.prompt.value_counts())"
   ]
  },
  {
   "cell_type": "markdown",
   "metadata": {},
   "source": [
    "I have 7 models under test, so I was expecting each prompt to repeat 7 times. Seems like they modified prompt for one of the models, I'll just drop it for now."
   ]
  },
  {
   "cell_type": "code",
   "execution_count": 84,
   "metadata": {},
   "outputs": [
    {
     "data": {
      "text/plain": [
       "'The following are multiple choice questions (with answers) about conceptual physics.\\n\\nQuestion: A model airplane flies slower when flying into the wind and faster with wind at its back. When launched at right angles to the wind a cross wind its groundspeed compared with flying in still air is\\nA. the same\\nB. greater\\nC. less\\nD. either greater or less depending on wind speed\\nAnswer: B\\n\\nQuestion: Things that are equivalent according to the equivalence principle are\\nA. space and time.\\nB. a traveling twin and a stay-at-home twin.\\nC. gravity and acceleration.\\nD. mass and energy.\\nAnswer: C\\n\\nQuestion: Which of these three elements has the most mass per nucleon?\\nA. Hydrogen\\nB. Iron\\nC. Uranium\\nD. Same in each\\nAnswer: A\\n\\nQuestion: Compared with the mass of a uranium atom undergoing fission, the combined masses of the products after fission are\\nA. less\\nB. more\\nC. the same\\nD. zero\\nAnswer: A\\n\\nQuestion: Colors in a soap bubble result from light\\nA. converted to a different frequency\\nB. deflection\\nC. interference\\nD. polarization\\nAnswer: C\\n\\nQuestion: In a circuit of two lamps in parallel, if the current in one lamp is 2 A, the current in the other lamp is\\nA. about 1 A\\nB. 2 A\\nC. Depends on which lamp is closer to the battery\\nD. Not enough information to say\\nAnswer:'"
      ]
     },
     "execution_count": 84,
     "metadata": {},
     "output_type": "execute_result"
    }
   ],
   "source": [
    "min_count_prompt = df.prompt.value_counts().index[-1]\n",
    "min_count_prompt"
   ]
  },
  {
   "cell_type": "code",
   "execution_count": 85,
   "metadata": {},
   "outputs": [
    {
     "data": {
      "text/html": [
       "<div>\n",
       "<style scoped>\n",
       "    .dataframe tbody tr th:only-of-type {\n",
       "        vertical-align: middle;\n",
       "    }\n",
       "\n",
       "    .dataframe tbody tr th {\n",
       "        vertical-align: top;\n",
       "    }\n",
       "\n",
       "    .dataframe thead th {\n",
       "        text-align: right;\n",
       "    }\n",
       "</style>\n",
       "<table border=\"1\" class=\"dataframe\">\n",
       "  <thead>\n",
       "    <tr style=\"text-align: right;\">\n",
       "      <th></th>\n",
       "      <th>prompt</th>\n",
       "      <th>model</th>\n",
       "      <th>exact_match</th>\n",
       "      <th>provider</th>\n",
       "    </tr>\n",
       "  </thead>\n",
       "  <tbody>\n",
       "    <tr>\n",
       "      <th>46809</th>\n",
       "      <td>The following are multiple choice questions (w...</td>\n",
       "      <td>mistralai/mistral-small-2402</td>\n",
       "      <td>0.0</td>\n",
       "      <td>mistralai</td>\n",
       "    </tr>\n",
       "  </tbody>\n",
       "</table>\n",
       "</div>"
      ],
      "text/plain": [
       "                                                  prompt  \\\n",
       "46809  The following are multiple choice questions (w...   \n",
       "\n",
       "                              model  exact_match   provider  \n",
       "46809  mistralai/mistral-small-2402          0.0  mistralai  "
      ]
     },
     "execution_count": 85,
     "metadata": {},
     "output_type": "execute_result"
    }
   ],
   "source": [
    "df.query(\"prompt == @min_count_prompt\")"
   ]
  },
  {
   "cell_type": "code",
   "execution_count": 86,
   "metadata": {},
   "outputs": [
    {
     "data": {
      "text/plain": [
       "count    14015.000000\n",
       "mean         6.011559\n",
       "std          0.263108\n",
       "min          6.000000\n",
       "25%          6.000000\n",
       "50%          6.000000\n",
       "75%          6.000000\n",
       "max         12.000000\n",
       "Name: count, dtype: float64"
      ]
     },
     "execution_count": 86,
     "metadata": {},
     "output_type": "execute_result"
    }
   ],
   "source": [
    "df.query(\"model != 'mistralai/mistral-small-2402'\").prompt.value_counts().describe()"
   ]
  },
  {
   "cell_type": "code",
   "execution_count": 90,
   "metadata": {},
   "outputs": [
    {
     "data": {
      "text/plain": [
       "(84252, 4)"
      ]
     },
     "execution_count": 90,
     "metadata": {},
     "output_type": "execute_result"
    }
   ],
   "source": [
    "df = df.query(\"model != 'mistralai/mistral-small-2402'\")\n",
    "df.shape"
   ]
  },
  {
   "cell_type": "code",
   "execution_count": 91,
   "metadata": {},
   "outputs": [
    {
     "data": {
      "text/plain": [
       "count    14015.000000\n",
       "mean         6.011559\n",
       "std          0.263108\n",
       "min          6.000000\n",
       "25%          6.000000\n",
       "50%          6.000000\n",
       "75%          6.000000\n",
       "max         12.000000\n",
       "Name: count, dtype: float64"
      ]
     },
     "execution_count": 91,
     "metadata": {},
     "output_type": "execute_result"
    }
   ],
   "source": [
    "df.prompt.value_counts().describe()"
   ]
  },
  {
   "cell_type": "code",
   "execution_count": 92,
   "metadata": {},
   "outputs": [],
   "source": [
    "df.to_parquet(S.DATA_DIR / \"intermediate\" / \"stanford_mmlu_results.parquet\")"
   ]
  }
 ],
 "metadata": {
  "kernelspec": {
   "display_name": ".venv",
   "language": "python",
   "name": "python3"
  },
  "language_info": {
   "codemirror_mode": {
    "name": "ipython",
    "version": 3
   },
   "file_extension": ".py",
   "mimetype": "text/x-python",
   "name": "python",
   "nbconvert_exporter": "python",
   "pygments_lexer": "ipython3",
   "version": "3.11.13"
  }
 },
 "nbformat": 4,
 "nbformat_minor": 2
}
